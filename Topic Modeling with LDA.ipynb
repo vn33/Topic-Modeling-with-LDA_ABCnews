{
 "cells": [
  {
   "cell_type": "markdown",
   "id": "2ff50caf",
   "metadata": {},
   "source": [
    "# Topic Modeling\n",
    "Text mining technique that provides methods for identifying co-occuring keywords to summarize large collections of textual information."
   ]
  },
  {
   "cell_type": "markdown",
   "id": "8cfde5f3",
   "metadata": {},
   "source": [
    "## Topic Modeling with LDA\n",
    "\n",
    "### Dirichlet Process and Dirichlet Distribution\n",
    "\n",
    "<p>A Dirichlet process is a distribution over a distribution. It can be represented as DP(α,G) where G is the base distribution and α is the concentration parameter that defines how close DP(α,G) is to the base distribution G. It is for this reason that the Dirichlet process is a versatile way to represent various probability distributions. It is used for the HDP topic-modeling algorithm.</p>\n",
    "\n",
    "\n",
    "<p>The Dirichlet distribution is a special case of the Dirichlet process, in which the number of topics needs to be specified explicitly. It is used for the LDA topic-modeling algorithm.</p>\n",
    "\n",
    "\n",
    "### Latent Dirichlet Allocation (LDA)\n",
    "\n",
    "<p>Instead of using matrix factorization, like we did for LSA, it is possible to consider a generative model called LDA. LDA is considered an advancement over probabilistic LSA. Probabilistic LSA is prone to overfitting as it does not probabilistically model the distribution of the documents. LDA is a three-level hierarchical generative statistical model that maps documents to topics, which in turn get mapped to words—all in a probabilistic way. In this case, we have two concentration parameters corresponding to the document level and the topic level.</p>\n",
    "\n",
    "\n",
    "<p>In this exercise, we will use the tomotopy LDA model to analyze the Canadian Open Data Inventory. For simplicity, we will consider that the corpus has twenty topics.</p>\n",
    "\n",
    "\n",
    "Note<br>\n",
    "The dataset used for this exercise can be found at https://packt.live/2PbvMds."
   ]
  },
  {
   "cell_type": "code",
   "execution_count": 1,
   "id": "6a11a652",
   "metadata": {},
   "outputs": [],
   "source": [
    "import pandas as pd\n",
    "\n",
    "data = pd.read_csv('abcnews-date-text.csv')"
   ]
  },
  {
   "cell_type": "code",
   "execution_count": 9,
   "id": "c4c700f2",
   "metadata": {},
   "outputs": [],
   "source": [
    "data_text = data[['headline_text']]\n",
    "data_text['index'] = data_text.index\n",
    "documents = data_text.copy()"
   ]
  },
  {
   "cell_type": "code",
   "execution_count": 10,
   "id": "21ed29f1",
   "metadata": {},
   "outputs": [
    {
     "data": {
      "text/html": [
       "<div>\n",
       "<style scoped>\n",
       "    .dataframe tbody tr th:only-of-type {\n",
       "        vertical-align: middle;\n",
       "    }\n",
       "\n",
       "    .dataframe tbody tr th {\n",
       "        vertical-align: top;\n",
       "    }\n",
       "\n",
       "    .dataframe thead th {\n",
       "        text-align: right;\n",
       "    }\n",
       "</style>\n",
       "<table border=\"1\" class=\"dataframe\">\n",
       "  <thead>\n",
       "    <tr style=\"text-align: right;\">\n",
       "      <th></th>\n",
       "      <th>headline_text</th>\n",
       "      <th>index</th>\n",
       "    </tr>\n",
       "  </thead>\n",
       "  <tbody>\n",
       "    <tr>\n",
       "      <th>0</th>\n",
       "      <td>aba decides against community broadcasting lic...</td>\n",
       "      <td>0</td>\n",
       "    </tr>\n",
       "    <tr>\n",
       "      <th>1</th>\n",
       "      <td>act fire witnesses must be aware of defamation</td>\n",
       "      <td>1</td>\n",
       "    </tr>\n",
       "    <tr>\n",
       "      <th>2</th>\n",
       "      <td>a g calls for infrastructure protection summit</td>\n",
       "      <td>2</td>\n",
       "    </tr>\n",
       "    <tr>\n",
       "      <th>3</th>\n",
       "      <td>air nz staff in aust strike for pay rise</td>\n",
       "      <td>3</td>\n",
       "    </tr>\n",
       "    <tr>\n",
       "      <th>4</th>\n",
       "      <td>air nz strike to affect australian travellers</td>\n",
       "      <td>4</td>\n",
       "    </tr>\n",
       "    <tr>\n",
       "      <th>...</th>\n",
       "      <td>...</td>\n",
       "      <td>...</td>\n",
       "    </tr>\n",
       "    <tr>\n",
       "      <th>1244179</th>\n",
       "      <td>two aged care residents die as state records 2...</td>\n",
       "      <td>1244179</td>\n",
       "    </tr>\n",
       "    <tr>\n",
       "      <th>1244180</th>\n",
       "      <td>victoria records 5;919 new cases and seven deaths</td>\n",
       "      <td>1244180</td>\n",
       "    </tr>\n",
       "    <tr>\n",
       "      <th>1244181</th>\n",
       "      <td>wa delays adopting new close contact definition</td>\n",
       "      <td>1244181</td>\n",
       "    </tr>\n",
       "    <tr>\n",
       "      <th>1244182</th>\n",
       "      <td>western ringtail possums found badly dehydrate...</td>\n",
       "      <td>1244182</td>\n",
       "    </tr>\n",
       "    <tr>\n",
       "      <th>1244183</th>\n",
       "      <td>what makes you a close covid contact here are ...</td>\n",
       "      <td>1244183</td>\n",
       "    </tr>\n",
       "  </tbody>\n",
       "</table>\n",
       "<p>1244184 rows × 2 columns</p>\n",
       "</div>"
      ],
      "text/plain": [
       "                                             headline_text    index\n",
       "0        aba decides against community broadcasting lic...        0\n",
       "1           act fire witnesses must be aware of defamation        1\n",
       "2           a g calls for infrastructure protection summit        2\n",
       "3                 air nz staff in aust strike for pay rise        3\n",
       "4            air nz strike to affect australian travellers        4\n",
       "...                                                    ...      ...\n",
       "1244179  two aged care residents die as state records 2...  1244179\n",
       "1244180  victoria records 5;919 new cases and seven deaths  1244180\n",
       "1244181    wa delays adopting new close contact definition  1244181\n",
       "1244182  western ringtail possums found badly dehydrate...  1244182\n",
       "1244183  what makes you a close covid contact here are ...  1244183\n",
       "\n",
       "[1244184 rows x 2 columns]"
      ]
     },
     "execution_count": 10,
     "metadata": {},
     "output_type": "execute_result"
    }
   ],
   "source": [
    "documents"
   ]
  },
  {
   "cell_type": "code",
   "execution_count": 11,
   "id": "0a543df1",
   "metadata": {},
   "outputs": [
    {
     "data": {
      "text/plain": [
       "1244184"
      ]
     },
     "execution_count": 11,
     "metadata": {},
     "output_type": "execute_result"
    }
   ],
   "source": [
    "len(documents)"
   ]
  },
  {
   "cell_type": "code",
   "execution_count": 12,
   "id": "7e5d57be",
   "metadata": {},
   "outputs": [
    {
     "data": {
      "text/html": [
       "<div>\n",
       "<style scoped>\n",
       "    .dataframe tbody tr th:only-of-type {\n",
       "        vertical-align: middle;\n",
       "    }\n",
       "\n",
       "    .dataframe tbody tr th {\n",
       "        vertical-align: top;\n",
       "    }\n",
       "\n",
       "    .dataframe thead th {\n",
       "        text-align: right;\n",
       "    }\n",
       "</style>\n",
       "<table border=\"1\" class=\"dataframe\">\n",
       "  <thead>\n",
       "    <tr style=\"text-align: right;\">\n",
       "      <th></th>\n",
       "      <th>headline_text</th>\n",
       "      <th>index</th>\n",
       "    </tr>\n",
       "  </thead>\n",
       "  <tbody>\n",
       "    <tr>\n",
       "      <th>0</th>\n",
       "      <td>aba decides against community broadcasting lic...</td>\n",
       "      <td>0</td>\n",
       "    </tr>\n",
       "    <tr>\n",
       "      <th>1</th>\n",
       "      <td>act fire witnesses must be aware of defamation</td>\n",
       "      <td>1</td>\n",
       "    </tr>\n",
       "    <tr>\n",
       "      <th>2</th>\n",
       "      <td>a g calls for infrastructure protection summit</td>\n",
       "      <td>2</td>\n",
       "    </tr>\n",
       "    <tr>\n",
       "      <th>3</th>\n",
       "      <td>air nz staff in aust strike for pay rise</td>\n",
       "      <td>3</td>\n",
       "    </tr>\n",
       "    <tr>\n",
       "      <th>4</th>\n",
       "      <td>air nz strike to affect australian travellers</td>\n",
       "      <td>4</td>\n",
       "    </tr>\n",
       "  </tbody>\n",
       "</table>\n",
       "</div>"
      ],
      "text/plain": [
       "                                       headline_text  index\n",
       "0  aba decides against community broadcasting lic...      0\n",
       "1     act fire witnesses must be aware of defamation      1\n",
       "2     a g calls for infrastructure protection summit      2\n",
       "3           air nz staff in aust strike for pay rise      3\n",
       "4      air nz strike to affect australian travellers      4"
      ]
     },
     "execution_count": 12,
     "metadata": {},
     "output_type": "execute_result"
    }
   ],
   "source": [
    "documents[:5]"
   ]
  },
  {
   "cell_type": "markdown",
   "id": "25b2959f",
   "metadata": {},
   "source": [
    "## Data Preprocessing"
   ]
  },
  {
   "cell_type": "code",
   "execution_count": 14,
   "id": "95c2c081",
   "metadata": {},
   "outputs": [],
   "source": [
    "import gensim\n",
    "from gensim.utils import simple_preprocess\n",
    "from gensim.parsing.preprocessing import STOPWORDS\n",
    "from nltk.stem import WordNetLemmatizer, SnowballStemmer\n",
    "from nltk.stem.porter import *\n",
    "import numpy as np\n",
    "np.random.seed(2018)"
   ]
  },
  {
   "cell_type": "code",
   "execution_count": 15,
   "id": "bf9e7dca",
   "metadata": {},
   "outputs": [
    {
     "name": "stderr",
     "output_type": "stream",
     "text": [
      "[nltk_data] Downloading package wordnet to\n",
      "[nltk_data]     C:\\Users\\visha\\AppData\\Roaming\\nltk_data...\n",
      "[nltk_data]   Package wordnet is already up-to-date!\n"
     ]
    },
    {
     "data": {
      "text/plain": [
       "True"
      ]
     },
     "execution_count": 15,
     "metadata": {},
     "output_type": "execute_result"
    }
   ],
   "source": [
    "import nltk\n",
    "nltk.download('wordnet')"
   ]
  },
  {
   "cell_type": "markdown",
   "id": "7385573b",
   "metadata": {},
   "source": [
    "### Lemmatize example"
   ]
  },
  {
   "cell_type": "code",
   "execution_count": 16,
   "id": "f769cd6c",
   "metadata": {},
   "outputs": [
    {
     "name": "stdout",
     "output_type": "stream",
     "text": [
      "go\n"
     ]
    }
   ],
   "source": [
    "print(WordNetLemmatizer().lemmatize('went', pos='v'))"
   ]
  },
  {
   "cell_type": "markdown",
   "id": "61e7d7bb",
   "metadata": {},
   "source": [
    "### Stemmer Example"
   ]
  },
  {
   "cell_type": "code",
   "execution_count": 19,
   "id": "69cbfecc",
   "metadata": {},
   "outputs": [
    {
     "data": {
      "text/html": [
       "<div>\n",
       "<style scoped>\n",
       "    .dataframe tbody tr th:only-of-type {\n",
       "        vertical-align: middle;\n",
       "    }\n",
       "\n",
       "    .dataframe tbody tr th {\n",
       "        vertical-align: top;\n",
       "    }\n",
       "\n",
       "    .dataframe thead th {\n",
       "        text-align: right;\n",
       "    }\n",
       "</style>\n",
       "<table border=\"1\" class=\"dataframe\">\n",
       "  <thead>\n",
       "    <tr style=\"text-align: right;\">\n",
       "      <th></th>\n",
       "      <th>original word</th>\n",
       "      <th>stemmed</th>\n",
       "    </tr>\n",
       "  </thead>\n",
       "  <tbody>\n",
       "    <tr>\n",
       "      <th>0</th>\n",
       "      <td>caresses</td>\n",
       "      <td>caress</td>\n",
       "    </tr>\n",
       "    <tr>\n",
       "      <th>1</th>\n",
       "      <td>files</td>\n",
       "      <td>file</td>\n",
       "    </tr>\n",
       "    <tr>\n",
       "      <th>2</th>\n",
       "      <td>dies</td>\n",
       "      <td>die</td>\n",
       "    </tr>\n",
       "    <tr>\n",
       "      <th>3</th>\n",
       "      <td>mules</td>\n",
       "      <td>mule</td>\n",
       "    </tr>\n",
       "    <tr>\n",
       "      <th>4</th>\n",
       "      <td>denied</td>\n",
       "      <td>deni</td>\n",
       "    </tr>\n",
       "    <tr>\n",
       "      <th>5</th>\n",
       "      <td>died</td>\n",
       "      <td>die</td>\n",
       "    </tr>\n",
       "    <tr>\n",
       "      <th>6</th>\n",
       "      <td>agreed</td>\n",
       "      <td>agre</td>\n",
       "    </tr>\n",
       "    <tr>\n",
       "      <th>7</th>\n",
       "      <td>owned</td>\n",
       "      <td>own</td>\n",
       "    </tr>\n",
       "    <tr>\n",
       "      <th>8</th>\n",
       "      <td>humbled</td>\n",
       "      <td>humbl</td>\n",
       "    </tr>\n",
       "    <tr>\n",
       "      <th>9</th>\n",
       "      <td>sized</td>\n",
       "      <td>size</td>\n",
       "    </tr>\n",
       "    <tr>\n",
       "      <th>10</th>\n",
       "      <td>meeting</td>\n",
       "      <td>meet</td>\n",
       "    </tr>\n",
       "    <tr>\n",
       "      <th>11</th>\n",
       "      <td>stating</td>\n",
       "      <td>state</td>\n",
       "    </tr>\n",
       "    <tr>\n",
       "      <th>12</th>\n",
       "      <td>sizeing</td>\n",
       "      <td>size</td>\n",
       "    </tr>\n",
       "    <tr>\n",
       "      <th>13</th>\n",
       "      <td>itemization</td>\n",
       "      <td>item</td>\n",
       "    </tr>\n",
       "    <tr>\n",
       "      <th>14</th>\n",
       "      <td>sensational</td>\n",
       "      <td>sensat</td>\n",
       "    </tr>\n",
       "    <tr>\n",
       "      <th>15</th>\n",
       "      <td>traditional</td>\n",
       "      <td>tradit</td>\n",
       "    </tr>\n",
       "    <tr>\n",
       "      <th>16</th>\n",
       "      <td>reference</td>\n",
       "      <td>refer</td>\n",
       "    </tr>\n",
       "    <tr>\n",
       "      <th>17</th>\n",
       "      <td>colonizer</td>\n",
       "      <td>colon</td>\n",
       "    </tr>\n",
       "    <tr>\n",
       "      <th>18</th>\n",
       "      <td>plotted</td>\n",
       "      <td>plot</td>\n",
       "    </tr>\n",
       "  </tbody>\n",
       "</table>\n",
       "</div>"
      ],
      "text/plain": [
       "   original word stemmed\n",
       "0       caresses  caress\n",
       "1          files    file\n",
       "2           dies     die\n",
       "3          mules    mule\n",
       "4         denied    deni\n",
       "5           died     die\n",
       "6         agreed    agre\n",
       "7          owned     own\n",
       "8        humbled   humbl\n",
       "9          sized    size\n",
       "10       meeting    meet\n",
       "11       stating   state\n",
       "12       sizeing    size\n",
       "13   itemization    item\n",
       "14   sensational  sensat\n",
       "15   traditional  tradit\n",
       "16     reference   refer\n",
       "17     colonizer   colon\n",
       "18       plotted    plot"
      ]
     },
     "execution_count": 19,
     "metadata": {},
     "output_type": "execute_result"
    }
   ],
   "source": [
    "stemmer = SnowballStemmer('english')\n",
    "original_words = ['caresses', 'files', 'dies', 'mules', 'denied', 'died', 'agreed',\n",
    "                  'owned', 'humbled', 'sized', 'meeting', 'stating', 'sizeing', 'itemization',\n",
    "                  'sensational', 'traditional', 'reference', 'colonizer', 'plotted'\n",
    "                 ]\n",
    "singles = [stemmer.stem(plural) for plural in original_words]\n",
    "pd.DataFrame(data = {'original word': original_words, 'stemmed': singles})"
   ]
  },
  {
   "cell_type": "markdown",
   "id": "60963e53",
   "metadata": {},
   "source": [
    "### Write a function to perform lemmatize and stem preprocessing steps on the data set"
   ]
  },
  {
   "cell_type": "code",
   "execution_count": 24,
   "id": "0fd37ee2",
   "metadata": {},
   "outputs": [],
   "source": [
    "def lemmatize_stemming(text):\n",
    "    return stemmer.stem(WordNetLemmatizer().lemmatize(text, pos='v'))\n",
    "\n",
    "def preprocess(text):\n",
    "    result = []\n",
    "    for token in gensim.utils.simple_preprocess(text):\n",
    "        if token not in gensim.parsing.preprocessing.STOPWORDS and len(token) > 3:\n",
    "            result.append(lemmatize_stemming(token))\n",
    "    return result"
   ]
  },
  {
   "cell_type": "markdown",
   "id": "45f61108",
   "metadata": {},
   "source": [
    "### Select a document to preview after preprocessing."
   ]
  },
  {
   "cell_type": "code",
   "execution_count": 21,
   "id": "e054d407",
   "metadata": {},
   "outputs": [
    {
     "data": {
      "text/plain": [
       "'ratepayers group wants compulsory local govt voting'"
      ]
     },
     "execution_count": 21,
     "metadata": {},
     "output_type": "execute_result"
    }
   ],
   "source": [
    "doc_sample = documents[documents['index'] == 4310].values[0][0]\n",
    "doc_sample"
   ]
  },
  {
   "cell_type": "code",
   "execution_count": 25,
   "id": "df2043eb",
   "metadata": {},
   "outputs": [
    {
     "name": "stdout",
     "output_type": "stream",
     "text": [
      "original document: \n",
      "['ratepayers', 'group', 'wants', 'compulsory', 'local', 'govt', 'voting']\n",
      "\n",
      "\n",
      " tokenized and lemmatized document: \n",
      "['ratepay', 'group', 'want', 'compulsori', 'local', 'govt', 'vote']\n"
     ]
    }
   ],
   "source": [
    "print('original document: ')\n",
    "words = []\n",
    "for word in doc_sample.split(' '):\n",
    "    words.append(word)\n",
    "print(words)\n",
    "print('\\n\\n tokenized and lemmatized document: ')\n",
    "print(preprocess(doc_sample))"
   ]
  },
  {
   "cell_type": "code",
   "execution_count": 26,
   "id": "a941a54c",
   "metadata": {},
   "outputs": [],
   "source": [
    "processed_docs = documents['headline_text'].map(preprocess)"
   ]
  },
  {
   "cell_type": "code",
   "execution_count": 27,
   "id": "56d56f5e",
   "metadata": {},
   "outputs": [
    {
     "data": {
      "text/plain": [
       "0            [decid, communiti, broadcast, licenc]\n",
       "1                               [wit, awar, defam]\n",
       "2           [call, infrastructur, protect, summit]\n",
       "3                      [staff, aust, strike, rise]\n",
       "4             [strike, affect, australian, travel]\n",
       "5               [ambiti, olsson, win, tripl, jump]\n",
       "6           [antic, delight, record, break, barca]\n",
       "7    [aussi, qualifi, stosur, wast, memphi, match]\n",
       "8            [aust, address, secur, council, iraq]\n",
       "9                         [australia, lock, timet]\n",
       "Name: headline_text, dtype: object"
      ]
     },
     "execution_count": 27,
     "metadata": {},
     "output_type": "execute_result"
    }
   ],
   "source": [
    "processed_docs[:10]"
   ]
  },
  {
   "cell_type": "markdown",
   "id": "bcd6dd1c",
   "metadata": {},
   "source": [
    "### Bag of words on the dataset\n",
    "Create a dictionary from `processed_docs` containing the number of times a word appears in the training set."
   ]
  },
  {
   "cell_type": "code",
   "execution_count": 28,
   "id": "c750e243",
   "metadata": {},
   "outputs": [
    {
     "data": {
      "text/plain": [
       "<gensim.corpora.dictionary.Dictionary at 0x2b78f17ea90>"
      ]
     },
     "execution_count": 28,
     "metadata": {},
     "output_type": "execute_result"
    }
   ],
   "source": [
    "dictionary = gensim.corpora.Dictionary(processed_docs)\n",
    "dictionary"
   ]
  },
  {
   "cell_type": "code",
   "execution_count": 29,
   "id": "718ebead",
   "metadata": {},
   "outputs": [
    {
     "name": "stdout",
     "output_type": "stream",
     "text": [
      "0 broadcast\n",
      "1 communiti\n",
      "2 decid\n",
      "3 licenc\n",
      "4 awar\n",
      "5 defam\n",
      "6 wit\n",
      "7 call\n",
      "8 infrastructur\n",
      "9 protect\n",
      "10 summit\n"
     ]
    }
   ],
   "source": [
    "count = 0\n",
    "for k,v in dictionary.iteritems():\n",
    "    print(k,v)\n",
    "    count+=1\n",
    "    if count > 10:\n",
    "        break"
   ]
  },
  {
   "cell_type": "markdown",
   "id": "edf4e130",
   "metadata": {},
   "source": [
    "### Filter out tokens that appear in\n",
    "- less than 15 documents(absolute number) or\n",
    "- More than 0.5 documents(fraction of total corpus size, not absolute number)\n",
    "- After the above two steps, keep only the first 100000 most frequent tokens.\n"
   ]
  },
  {
   "cell_type": "code",
   "execution_count": 30,
   "id": "00423a43",
   "metadata": {},
   "outputs": [],
   "source": [
    "dictionary.filter_extremes(no_below=15, no_above=0.5, keep_n=100000)"
   ]
  },
  {
   "cell_type": "markdown",
   "id": "49f974d5",
   "metadata": {},
   "source": [
    "### Gensim doc2bow\n",
    "For each document we create a dictioanry reporting how many words and how many times those words appear. Save this to `bow_corpus`, then check our selected document earlier."
   ]
  },
  {
   "cell_type": "code",
   "execution_count": 31,
   "id": "1f6ed5c6",
   "metadata": {},
   "outputs": [
    {
     "data": {
      "text/plain": [
       "[(162, 1), (240, 1), (292, 1), (589, 1), (838, 1), (3571, 1), (3572, 1)]"
      ]
     },
     "execution_count": 31,
     "metadata": {},
     "output_type": "execute_result"
    }
   ],
   "source": [
    "bow_corpus = [dictionary.doc2bow(doc) for doc in processed_docs]\n",
    "bow_corpus[4310]"
   ]
  },
  {
   "cell_type": "code",
   "execution_count": 33,
   "id": "8f608500",
   "metadata": {},
   "outputs": [
    {
     "name": "stdout",
     "output_type": "stream",
     "text": [
      "Word 162 (\"govt\") appears 1 times.\n",
      "Word 240 (\"group\") appears 1 times.\n",
      "Word 292 (\"vote\") appears 1 times.\n",
      "Word 589 (\"local\") appears 1 times.\n",
      "Word 838 (\"want\") appears 1 times.\n",
      "Word 3571 (\"compulsori\") appears 1 times.\n",
      "Word 3572 (\"ratepay\") appears 1 times.\n"
     ]
    }
   ],
   "source": [
    "bow_doc_4310 = bow_corpus[4310]\n",
    "\n",
    "for i in range(len(bow_doc_4310)):\n",
    "    print(\"Word {} (\\\"{}\\\") appears {} times.\".format(bow_doc_4310[i][0],\n",
    "                                                     dictionary[bow_doc_4310[i][0]],\n",
    "                                                     bow_doc_4310[i][1]))"
   ]
  },
  {
   "cell_type": "markdown",
   "id": "a95f1b4c",
   "metadata": {},
   "source": [
    "### TF-IDF"
   ]
  },
  {
   "cell_type": "code",
   "execution_count": 34,
   "id": "52a20956",
   "metadata": {},
   "outputs": [],
   "source": [
    "from gensim import corpora, models\n",
    "\n",
    "tfidf = models.TfidfModel(bow_corpus)"
   ]
  },
  {
   "cell_type": "code",
   "execution_count": 35,
   "id": "03d42171",
   "metadata": {},
   "outputs": [],
   "source": [
    "corpus_tfidf = tfidf[bow_corpus]"
   ]
  },
  {
   "cell_type": "code",
   "execution_count": 36,
   "id": "ebb5a04d",
   "metadata": {},
   "outputs": [
    {
     "name": "stdout",
     "output_type": "stream",
     "text": [
      "[(0, 0.5844216176085719),\n",
      " (1, 0.38716866963787633),\n",
      " (2, 0.5013820927104505),\n",
      " (3, 0.5071171375845095)]\n"
     ]
    }
   ],
   "source": [
    "from pprint import pprint\n",
    "\n",
    "for doc in corpus_tfidf:\n",
    "    pprint(doc)\n",
    "    break"
   ]
  },
  {
   "cell_type": "markdown",
   "id": "5538da6f",
   "metadata": {},
   "source": [
    "## Running LDA using Bag of Words"
   ]
  },
  {
   "cell_type": "code",
   "execution_count": 37,
   "id": "bd774c45",
   "metadata": {},
   "outputs": [],
   "source": [
    "lda_model = gensim.models.LdaMulticore(bow_corpus, num_topics=10, id2word=dictionary, passes=2, workers=2)"
   ]
  },
  {
   "cell_type": "markdown",
   "id": "e9cee163",
   "metadata": {},
   "source": [
    "For each topic, we will explore the words occuring in that topic and its relative weight."
   ]
  },
  {
   "cell_type": "code",
   "execution_count": 38,
   "id": "a47ed1c3",
   "metadata": {},
   "outputs": [
    {
     "name": "stdout",
     "output_type": "stream",
     "text": [
      "Topic: 0 \n",
      "words: 0.029*\"vaccin\" + 0.020*\"health\" + 0.017*\"hospit\" + 0.016*\"scott\" + 0.015*\"farmer\" + 0.013*\"break\" + 0.011*\"show\" + 0.011*\"pandem\" + 0.010*\"beach\" + 0.010*\"citi\"\n",
      "Topic: 1 \n",
      "words: 0.044*\"polic\" + 0.030*\"death\" + 0.024*\"home\" + 0.020*\"crash\" + 0.018*\"die\" + 0.016*\"lockdown\" + 0.015*\"perth\" + 0.015*\"shoot\" + 0.015*\"woman\" + 0.015*\"investig\"\n",
      "Topic: 2 \n",
      "words: 0.042*\"trump\" + 0.026*\"record\" + 0.023*\"test\" + 0.023*\"donald\" + 0.021*\"open\" + 0.018*\"market\" + 0.016*\"australian\" + 0.014*\"final\" + 0.010*\"guilti\" + 0.010*\"year\"\n",
      "Topic: 3 \n",
      "words: 0.031*\"elect\" + 0.019*\"say\" + 0.016*\"busi\" + 0.014*\"state\" + 0.013*\"speak\" + 0.013*\"minist\" + 0.013*\"labor\" + 0.012*\"andrew\" + 0.011*\"quarantin\" + 0.011*\"north\"\n",
      "Topic: 4 \n",
      "words: 0.047*\"queensland\" + 0.019*\"world\" + 0.017*\"canberra\" + 0.015*\"time\" + 0.014*\"win\" + 0.013*\"premier\" + 0.011*\"assault\" + 0.010*\"game\" + 0.010*\"australian\" + 0.009*\"sexual\"\n",
      "Topic: 5 \n",
      "words: 0.038*\"case\" + 0.027*\"charg\" + 0.027*\"court\" + 0.023*\"news\" + 0.022*\"murder\" + 0.019*\"face\" + 0.019*\"alleg\" + 0.018*\"peopl\" + 0.015*\"trial\" + 0.014*\"morrison\"\n",
      "Topic: 6 \n",
      "words: 0.033*\"melbourn\" + 0.023*\"protest\" + 0.022*\"attack\" + 0.019*\"australian\" + 0.017*\"arrest\" + 0.016*\"border\" + 0.015*\"kill\" + 0.014*\"royal\" + 0.014*\"polic\" + 0.012*\"abus\"\n",
      "Topic: 7 \n",
      "words: 0.033*\"govern\" + 0.023*\"live\" + 0.015*\"worker\" + 0.015*\"indigen\" + 0.014*\"communiti\" + 0.014*\"work\" + 0.012*\"care\" + 0.011*\"street\" + 0.011*\"call\" + 0.011*\"age\"\n",
      "Topic: 8 \n",
      "words: 0.074*\"coronavirus\" + 0.070*\"australia\" + 0.064*\"covid\" + 0.031*\"victoria\" + 0.022*\"south\" + 0.017*\"chang\" + 0.016*\"restrict\" + 0.013*\"island\" + 0.012*\"water\" + 0.011*\"west\"\n",
      "Topic: 9 \n",
      "words: 0.021*\"nation\" + 0.019*\"coast\" + 0.017*\"adelaid\" + 0.017*\"tasmania\" + 0.015*\"victorian\" + 0.013*\"region\" + 0.012*\"concern\" + 0.012*\"hous\" + 0.012*\"gold\" + 0.012*\"school\"\n"
     ]
    }
   ],
   "source": [
    "for idx, topic in lda_model.print_topics(-1):\n",
    "    print('Topic: {} \\nwords: {}'.format(idx, topic))"
   ]
  },
  {
   "cell_type": "markdown",
   "id": "a5f3aeb3",
   "metadata": {},
   "source": [
    "## Running LDA using TF-IDF"
   ]
  },
  {
   "cell_type": "code",
   "execution_count": 39,
   "id": "7b599099",
   "metadata": {},
   "outputs": [],
   "source": [
    "lda_model_tfidf = gensim.models.LdaMulticore(corpus_tfidf, num_topics=10, id2word=dictionary, passes=2, workers=4)"
   ]
  },
  {
   "cell_type": "code",
   "execution_count": 40,
   "id": "4e475e33",
   "metadata": {},
   "outputs": [
    {
     "name": "stdout",
     "output_type": "stream",
     "text": [
      "Topic: 0 \n",
      "words: 0.015*\"polic\" + 0.014*\"crash\" + 0.012*\"kill\" + 0.011*\"woman\" + 0.011*\"death\" + 0.009*\"lockdown\" + 0.009*\"shoot\" + 0.008*\"dead\" + 0.008*\"charg\" + 0.008*\"die\"\n",
      "Topic: 1 \n",
      "words: 0.015*\"interview\" + 0.010*\"weather\" + 0.008*\"peter\" + 0.006*\"extend\" + 0.006*\"june\" + 0.005*\"cancer\" + 0.005*\"april\" + 0.005*\"toni\" + 0.005*\"great\" + 0.005*\"storm\"\n",
      "Topic: 2 \n",
      "words: 0.013*\"charg\" + 0.012*\"morrison\" + 0.012*\"court\" + 0.010*\"murder\" + 0.010*\"polic\" + 0.009*\"alleg\" + 0.009*\"michael\" + 0.008*\"video\" + 0.007*\"accus\" + 0.007*\"steal\"\n",
      "Topic: 3 \n",
      "words: 0.025*\"trump\" + 0.014*\"donald\" + 0.011*\"australia\" + 0.011*\"world\" + 0.009*\"final\" + 0.009*\"scott\" + 0.007*\"leagu\" + 0.006*\"open\" + 0.006*\"cricket\" + 0.006*\"biden\"\n",
      "Topic: 4 \n",
      "words: 0.026*\"covid\" + 0.023*\"coronavirus\" + 0.011*\"countri\" + 0.010*\"queensland\" + 0.010*\"victoria\" + 0.009*\"case\" + 0.008*\"hour\" + 0.008*\"coast\" + 0.008*\"health\" + 0.008*\"australia\"\n",
      "Topic: 5 \n",
      "words: 0.015*\"drum\" + 0.009*\"tuesday\" + 0.009*\"wednesday\" + 0.008*\"live\" + 0.007*\"cattl\" + 0.007*\"outback\" + 0.006*\"septemb\" + 0.006*\"legal\" + 0.006*\"ship\" + 0.006*\"inquest\"\n",
      "Topic: 6 \n",
      "words: 0.019*\"news\" + 0.012*\"market\" + 0.008*\"vaccin\" + 0.008*\"care\" + 0.008*\"coronavirus\" + 0.007*\"share\" + 0.007*\"age\" + 0.006*\"wall\" + 0.006*\"busi\" + 0.006*\"australian\"\n",
      "Topic: 7 \n",
      "words: 0.018*\"govern\" + 0.010*\"climat\" + 0.009*\"andrew\" + 0.009*\"chang\" + 0.007*\"john\" + 0.006*\"social\" + 0.005*\"right\" + 0.005*\"jam\" + 0.005*\"say\" + 0.005*\"control\"\n",
      "Topic: 8 \n",
      "words: 0.010*\"royal\" + 0.010*\"stori\" + 0.009*\"friday\" + 0.009*\"monday\" + 0.009*\"sport\" + 0.009*\"christma\" + 0.008*\"commiss\" + 0.008*\"financ\" + 0.007*\"brief\" + 0.007*\"alan\"\n",
      "Topic: 9 \n",
      "words: 0.012*\"elect\" + 0.008*\"liber\" + 0.007*\"david\" + 0.007*\"turnbul\" + 0.007*\"say\" + 0.006*\"parliament\" + 0.006*\"labor\" + 0.006*\"histori\" + 0.006*\"parti\" + 0.006*\"minist\"\n"
     ]
    }
   ],
   "source": [
    "for idx, topic in lda_model_tfidf.print_topics(-1):\n",
    "    print('Topic: {} \\nwords: {}'.format(idx, topic))"
   ]
  },
  {
   "cell_type": "markdown",
   "id": "96306ae7",
   "metadata": {},
   "source": [
    "### Classification of the topics\n",
    "Our test document has the highest probability to be part of the topic that our model assigned, which is the accurate classification"
   ]
  },
  {
   "cell_type": "markdown",
   "id": "455ba2c5",
   "metadata": {},
   "source": [
    "### Performance evaluation by classifying sample document using LDA Bag of words model"
   ]
  },
  {
   "cell_type": "code",
   "execution_count": 41,
   "id": "9866f058",
   "metadata": {},
   "outputs": [
    {
     "data": {
      "text/plain": [
       "['ratepay', 'group', 'want', 'compulsori', 'local', 'govt', 'vote']"
      ]
     },
     "execution_count": 41,
     "metadata": {},
     "output_type": "execute_result"
    }
   ],
   "source": [
    "processed_docs[4310]"
   ]
  },
  {
   "cell_type": "code",
   "execution_count": 42,
   "id": "33542783",
   "metadata": {},
   "outputs": [
    {
     "name": "stdout",
     "output_type": "stream",
     "text": [
      "\n",
      "Score: 0.5550630688667297\t \n",
      "Topic: 0.033*\"govern\" + 0.023*\"live\" + 0.015*\"worker\" + 0.015*\"indigen\" + 0.014*\"communiti\" + 0.014*\"work\" + 0.012*\"care\" + 0.011*\"street\" + 0.011*\"call\" + 0.011*\"age\"\n",
      "\n",
      "Score: 0.21477612853050232\t \n",
      "Topic: 0.031*\"elect\" + 0.019*\"say\" + 0.016*\"busi\" + 0.014*\"state\" + 0.013*\"speak\" + 0.013*\"minist\" + 0.013*\"labor\" + 0.012*\"andrew\" + 0.011*\"quarantin\" + 0.011*\"north\"\n",
      "\n",
      "Score: 0.1426113247871399\t \n",
      "Topic: 0.042*\"trump\" + 0.026*\"record\" + 0.023*\"test\" + 0.023*\"donald\" + 0.021*\"open\" + 0.018*\"market\" + 0.016*\"australian\" + 0.014*\"final\" + 0.010*\"guilti\" + 0.010*\"year\"\n",
      "\n",
      "Score: 0.012508495710790157\t \n",
      "Topic: 0.021*\"nation\" + 0.019*\"coast\" + 0.017*\"adelaid\" + 0.017*\"tasmania\" + 0.015*\"victorian\" + 0.013*\"region\" + 0.012*\"concern\" + 0.012*\"hous\" + 0.012*\"gold\" + 0.012*\"school\"\n",
      "\n",
      "Score: 0.012506960891187191\t \n",
      "Topic: 0.038*\"case\" + 0.027*\"charg\" + 0.027*\"court\" + 0.023*\"news\" + 0.022*\"murder\" + 0.019*\"face\" + 0.019*\"alleg\" + 0.018*\"peopl\" + 0.015*\"trial\" + 0.014*\"morrison\"\n",
      "\n",
      "Score: 0.012506941333413124\t \n",
      "Topic: 0.047*\"queensland\" + 0.019*\"world\" + 0.017*\"canberra\" + 0.015*\"time\" + 0.014*\"win\" + 0.013*\"premier\" + 0.011*\"assault\" + 0.010*\"game\" + 0.010*\"australian\" + 0.009*\"sexual\"\n",
      "\n",
      "Score: 0.012506924569606781\t \n",
      "Topic: 0.074*\"coronavirus\" + 0.070*\"australia\" + 0.064*\"covid\" + 0.031*\"victoria\" + 0.022*\"south\" + 0.017*\"chang\" + 0.016*\"restrict\" + 0.013*\"island\" + 0.012*\"water\" + 0.011*\"west\"\n",
      "\n",
      "Score: 0.012506900355219841\t \n",
      "Topic: 0.029*\"vaccin\" + 0.020*\"health\" + 0.017*\"hospit\" + 0.016*\"scott\" + 0.015*\"farmer\" + 0.013*\"break\" + 0.011*\"show\" + 0.011*\"pandem\" + 0.010*\"beach\" + 0.010*\"citi\"\n",
      "\n",
      "Score: 0.012506638653576374\t \n",
      "Topic: 0.044*\"polic\" + 0.030*\"death\" + 0.024*\"home\" + 0.020*\"crash\" + 0.018*\"die\" + 0.016*\"lockdown\" + 0.015*\"perth\" + 0.015*\"shoot\" + 0.015*\"woman\" + 0.015*\"investig\"\n",
      "\n",
      "Score: 0.012506638653576374\t \n",
      "Topic: 0.033*\"melbourn\" + 0.023*\"protest\" + 0.022*\"attack\" + 0.019*\"australian\" + 0.017*\"arrest\" + 0.016*\"border\" + 0.015*\"kill\" + 0.014*\"royal\" + 0.014*\"polic\" + 0.012*\"abus\"\n"
     ]
    }
   ],
   "source": [
    "for index, score in sorted(lda_model[bow_corpus[4310]], key=lambda tup: -1*tup[1]):\n",
    "    print('\\nScore: {}\\t \\nTopic: {}'.format(score, lda_model.print_topic(index, 10)))\n",
    "\n"
   ]
  },
  {
   "cell_type": "markdown",
   "id": "8218ebdc",
   "metadata": {},
   "source": [
    "### Performance evaluation by classifying sample document using LDA TF-IDF model"
   ]
  },
  {
   "cell_type": "code",
   "execution_count": 43,
   "id": "846fb89a",
   "metadata": {},
   "outputs": [
    {
     "name": "stdout",
     "output_type": "stream",
     "text": [
      "\n",
      "Score: 0.5961377620697021\t \n",
      "Topic: 0.018*\"govern\" + 0.010*\"climat\" + 0.009*\"andrew\" + 0.009*\"chang\" + 0.007*\"john\" + 0.006*\"social\" + 0.005*\"right\" + 0.005*\"jam\" + 0.005*\"say\" + 0.005*\"control\"\n",
      "\n",
      "Score: 0.3038157522678375\t \n",
      "Topic: 0.026*\"covid\" + 0.023*\"coronavirus\" + 0.011*\"countri\" + 0.010*\"queensland\" + 0.010*\"victoria\" + 0.009*\"case\" + 0.008*\"hour\" + 0.008*\"coast\" + 0.008*\"health\" + 0.008*\"australia\"\n",
      "\n",
      "Score: 0.012508079409599304\t \n",
      "Topic: 0.012*\"elect\" + 0.008*\"liber\" + 0.007*\"david\" + 0.007*\"turnbul\" + 0.007*\"say\" + 0.006*\"parliament\" + 0.006*\"labor\" + 0.006*\"histori\" + 0.006*\"parti\" + 0.006*\"minist\"\n",
      "\n",
      "Score: 0.012507021427154541\t \n",
      "Topic: 0.019*\"news\" + 0.012*\"market\" + 0.008*\"vaccin\" + 0.008*\"care\" + 0.008*\"coronavirus\" + 0.007*\"share\" + 0.007*\"age\" + 0.006*\"wall\" + 0.006*\"busi\" + 0.006*\"australian\"\n",
      "\n",
      "Score: 0.01250616554170847\t \n",
      "Topic: 0.010*\"royal\" + 0.010*\"stori\" + 0.009*\"friday\" + 0.009*\"monday\" + 0.009*\"sport\" + 0.009*\"christma\" + 0.008*\"commiss\" + 0.008*\"financ\" + 0.007*\"brief\" + 0.007*\"alan\"\n",
      "\n",
      "Score: 0.01250586286187172\t \n",
      "Topic: 0.015*\"drum\" + 0.009*\"tuesday\" + 0.009*\"wednesday\" + 0.008*\"live\" + 0.007*\"cattl\" + 0.007*\"outback\" + 0.006*\"septemb\" + 0.006*\"legal\" + 0.006*\"ship\" + 0.006*\"inquest\"\n",
      "\n",
      "Score: 0.012505071237683296\t \n",
      "Topic: 0.025*\"trump\" + 0.014*\"donald\" + 0.011*\"australia\" + 0.011*\"world\" + 0.009*\"final\" + 0.009*\"scott\" + 0.007*\"leagu\" + 0.006*\"open\" + 0.006*\"cricket\" + 0.006*\"biden\"\n",
      "\n",
      "Score: 0.012504855170845985\t \n",
      "Topic: 0.013*\"charg\" + 0.012*\"morrison\" + 0.012*\"court\" + 0.010*\"murder\" + 0.010*\"polic\" + 0.009*\"alleg\" + 0.009*\"michael\" + 0.008*\"video\" + 0.007*\"accus\" + 0.007*\"steal\"\n",
      "\n",
      "Score: 0.012504816986620426\t \n",
      "Topic: 0.015*\"interview\" + 0.010*\"weather\" + 0.008*\"peter\" + 0.006*\"extend\" + 0.006*\"june\" + 0.005*\"cancer\" + 0.005*\"april\" + 0.005*\"toni\" + 0.005*\"great\" + 0.005*\"storm\"\n",
      "\n",
      "Score: 0.012504630722105503\t \n",
      "Topic: 0.015*\"polic\" + 0.014*\"crash\" + 0.012*\"kill\" + 0.011*\"woman\" + 0.011*\"death\" + 0.009*\"lockdown\" + 0.009*\"shoot\" + 0.008*\"dead\" + 0.008*\"charg\" + 0.008*\"die\"\n"
     ]
    }
   ],
   "source": [
    "for index, score in sorted(lda_model_tfidf[bow_corpus[4310]], key=lambda tup: -1*tup[1]):\n",
    "    print('\\nScore: {}\\t \\nTopic: {}'.format(score, lda_model_tfidf.print_topic(index, 10)))\n",
    "\n"
   ]
  },
  {
   "cell_type": "markdown",
   "id": "b736e3f8",
   "metadata": {},
   "source": [
    "### Testing model on unseen document"
   ]
  },
  {
   "cell_type": "code",
   "execution_count": 44,
   "id": "e06a7d93",
   "metadata": {},
   "outputs": [
    {
     "name": "stdout",
     "output_type": "stream",
     "text": [
      "\n",
      "Score: 0.3500813841819763\t \n",
      "Topic: 0.042*\"trump\" + 0.026*\"record\" + 0.023*\"test\" + 0.023*\"donald\" + 0.021*\"open\" + 0.018*\"market\" + 0.016*\"australian\" + 0.014*\"final\" + 0.010*\"guilti\" + 0.010*\"year\"\n",
      "\n",
      "Score: 0.34990212321281433\t \n",
      "Topic: 0.074*\"coronavirus\" + 0.070*\"australia\" + 0.064*\"covid\" + 0.031*\"victoria\" + 0.022*\"south\" + 0.017*\"chang\" + 0.016*\"restrict\" + 0.013*\"island\" + 0.012*\"water\" + 0.011*\"west\"\n",
      "\n",
      "Score: 0.18328313529491425\t \n",
      "Topic: 0.033*\"melbourn\" + 0.023*\"protest\" + 0.022*\"attack\" + 0.019*\"australian\" + 0.017*\"arrest\" + 0.016*\"border\" + 0.015*\"kill\" + 0.014*\"royal\" + 0.014*\"polic\" + 0.012*\"abus\"\n",
      "\n",
      "Score: 0.01668340340256691\t \n",
      "Topic: 0.033*\"govern\" + 0.023*\"live\" + 0.015*\"worker\" + 0.015*\"indigen\" + 0.014*\"communiti\" + 0.014*\"work\" + 0.012*\"care\" + 0.011*\"street\" + 0.011*\"call\" + 0.011*\"age\"\n",
      "\n",
      "Score: 0.01667807251214981\t \n",
      "Topic: 0.031*\"elect\" + 0.019*\"say\" + 0.016*\"busi\" + 0.014*\"state\" + 0.013*\"speak\" + 0.013*\"minist\" + 0.013*\"labor\" + 0.012*\"andrew\" + 0.011*\"quarantin\" + 0.011*\"north\"\n",
      "\n",
      "Score: 0.016675570979714394\t \n",
      "Topic: 0.038*\"case\" + 0.027*\"charg\" + 0.027*\"court\" + 0.023*\"news\" + 0.022*\"murder\" + 0.019*\"face\" + 0.019*\"alleg\" + 0.018*\"peopl\" + 0.015*\"trial\" + 0.014*\"morrison\"\n",
      "\n",
      "Score: 0.01667408086359501\t \n",
      "Topic: 0.029*\"vaccin\" + 0.020*\"health\" + 0.017*\"hospit\" + 0.016*\"scott\" + 0.015*\"farmer\" + 0.013*\"break\" + 0.011*\"show\" + 0.011*\"pandem\" + 0.010*\"beach\" + 0.010*\"citi\"\n",
      "\n",
      "Score: 0.01667408086359501\t \n",
      "Topic: 0.044*\"polic\" + 0.030*\"death\" + 0.024*\"home\" + 0.020*\"crash\" + 0.018*\"die\" + 0.016*\"lockdown\" + 0.015*\"perth\" + 0.015*\"shoot\" + 0.015*\"woman\" + 0.015*\"investig\"\n",
      "\n",
      "Score: 0.01667408086359501\t \n",
      "Topic: 0.047*\"queensland\" + 0.019*\"world\" + 0.017*\"canberra\" + 0.015*\"time\" + 0.014*\"win\" + 0.013*\"premier\" + 0.011*\"assault\" + 0.010*\"game\" + 0.010*\"australian\" + 0.009*\"sexual\"\n",
      "\n",
      "Score: 0.01667408086359501\t \n",
      "Topic: 0.021*\"nation\" + 0.019*\"coast\" + 0.017*\"adelaid\" + 0.017*\"tasmania\" + 0.015*\"victorian\" + 0.013*\"region\" + 0.012*\"concern\" + 0.012*\"hous\" + 0.012*\"gold\" + 0.012*\"school\"\n"
     ]
    }
   ],
   "source": [
    "unseen_document = 'How a Pentagon deal became an identity crisis for Google'\n",
    "bow_vector = dictionary.doc2bow(preprocess(unseen_document))\n",
    "\n",
    "for index, score in sorted(lda_model[bow_vector], key=lambda tup: -1*tup[1]):\n",
    "    print('\\nScore: {}\\t \\nTopic: {}'.format(score, lda_model.print_topic(index, 10)))\n"
   ]
  },
  {
   "cell_type": "code",
   "execution_count": null,
   "id": "582d086a",
   "metadata": {},
   "outputs": [],
   "source": []
  },
  {
   "cell_type": "code",
   "execution_count": null,
   "id": "006a0b32",
   "metadata": {},
   "outputs": [],
   "source": []
  }
 ],
 "metadata": {
  "kernelspec": {
   "display_name": "Python 3 (ipykernel)",
   "language": "python",
   "name": "python3"
  },
  "language_info": {
   "codemirror_mode": {
    "name": "ipython",
    "version": 3
   },
   "file_extension": ".py",
   "mimetype": "text/x-python",
   "name": "python",
   "nbconvert_exporter": "python",
   "pygments_lexer": "ipython3",
   "version": "3.11.5"
  }
 },
 "nbformat": 4,
 "nbformat_minor": 5
}
